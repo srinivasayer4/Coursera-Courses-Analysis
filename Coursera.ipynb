{
 "cells": [
  {
   "cell_type": "markdown",
   "metadata": {},
   "source": [
    "# Analyzing the courses in Coursera\n",
    "## Introduction\n",
    "Coursera is an amazing educational website that offers numerous online courses to students. I myself have completed few courses from it and was curious to see which were the most popular courses in the website.\n",
    "\n",
    "## Objective\n",
    "In this project I have scraped the data from the coursera website to gather the neccesary information for each course offered on the website. I have then applied machine learning tools to predict the completion percent for each course based on the information collected. Following questions will be answered from the analysis- <br>\n",
    "1) Course with the highest enrollments. <br>\n",
    "2) Course with highest ratings. <br>\n",
    "3) Estimating the course with highest completion percents. <br>\n",
    "4) Relationship between ratings and completion percent. <br>\n",
    "5) Developing a predictive model about the completion percent. <br>\n",
    "\n",
    "I tried to compare this data with other educational websites like Edx and Udacity. However Edx and Udacity do not show the rating for each course or the number of people who have rated it (atleast not that I am aware of)."
   ]
  },
  {
   "cell_type": "code",
   "execution_count": 471,
   "metadata": {},
   "outputs": [],
   "source": [
    "# importing modules\n",
    "import pandas as pd\n",
    "import numpy as np\n",
    "import matplotlib.pyplot as plt\n",
    "import seaborn as sns\n",
    "import requests\n",
    "import os\n",
    "from bs4 import BeautifulSoup\n",
    "import re\n",
    "import time"
   ]
  },
  {
   "cell_type": "markdown",
   "metadata": {},
   "source": [
    "## Data Gathering\n",
    "All the data is collected from https://www.coursera.org/search?query=& . However, since the data is spread across 100 pages, the URL is run in a loop to gather the information. \n",
    "\n",
    "I am collecting the course name, course type (certificate vs specialization etc), course difficulty, enrollments, ratings and the number of raters for each course. BeautrifulSoup is used to take data from HTML and regex expressions are used to search for information from the HTML script element.\n",
    "\n",
    "The _for_ loop was put on sleep mode for few seconds after every iteration to prevent continuos request to the page."
   ]
  },
  {
   "cell_type": "code",
   "execution_count": 559,
   "metadata": {},
   "outputs": [
    {
     "data": {
      "text/plain": [
       "(2610, 7)"
      ]
     },
     "execution_count": 559,
     "metadata": {},
     "output_type": "execute_result"
    }
   ],
   "source": [
    "# Splitting the URL into different parts to accomodate different pages on the website\n",
    "URL_first= 'https://www.coursera.org/search?page='\n",
    "URL_second= '&index=prod_all_products_term_optimization&allLanguages=English'\n",
    "df= pd.DataFrame()\n",
    "\n",
    "for i in range(1,70):\n",
    "    URL= URL_first+str(i)+URL_second\n",
    "    \n",
    "    # Parsing the webpage using requests and BeautifulSoup\n",
    "    r_catalog = requests.get(URL)\n",
    "    soup_c= BeautifulSoup(r_catalog.content,'html.parser' )\n",
    "    \n",
    "    # Finding the data stored in the script HTML element\n",
    "    temp =soup_c.find_all('script')[10].contents[0]\n",
    "    \n",
    "    # Number of raters\n",
    "    num_raters = [int(x.split(':')[-1]) for x in re.findall('\"numProductRatings\":\\d*', temp)]\n",
    "    \n",
    "    # Name of program\n",
    "    program_name =[re.split('\\\"',x)[3] for x in re.findall('\"name\":[^\\{\\}]+,\"partnerLogos\"', temp)]\n",
    "     \n",
    "    # Number of Enrollments\n",
    "    enroll = [int(x.split(':')[-1])for x in re.findall('\"enrollments\":\\d*', temp)]\n",
    "    \n",
    "    # Difficulty level like Begineer, Mixed etc\n",
    "    difficulty = [ x.split('\"')[-2] for x in re.findall('\"productDifficultyLevel\":\"[\\w\\s]*\"', temp)]\n",
    "    \n",
    "    # Program Overall rating out of 5\n",
    "    program_rating = [round(float(x.split(':')[-1]),2) for x in re.findall('\"avgProductRating\":\\d*\\.?\\d*', temp)]\n",
    "    \n",
    "    # Program type like Specialization, Certification etc\n",
    "    program_type = [x.split('\"')[-2] for x in re.findall('\"entityType\":\"[\\w\\s\\w]*\"', temp)]\n",
    "    \n",
    "    # List of Skills built \n",
    "    skill_list= [re.split('\\:|\\,\"imageUrl\"',x)[1]  for x in re.findall('\"skills\":[\\[\\w\\s\\\"\\,\\]]*,\"imageUrl\"', temp)]\n",
    "    \n",
    "    # Offered by\n",
    "    offer_by = [re.split('\\\"',x)[3] for x in re.findall('\"partners\":[^\\{\\}]+,\"language\"', temp)]\n",
    "    \n",
    "    #Making a dataframe with each lists\n",
    "    df_temp = pd.DataFrame({'program_name':program_name,'difficulty':difficulty,'program_type':program_type,\\\n",
    "            'program_rating':program_rating,'num_raters':num_raters,'enroll':enroll, \\\n",
    "                          'offered_by':offer_by})\n",
    "    \n",
    "    if i==1:\n",
    "        df = df_temp.copy()\n",
    "        \n",
    "    else:\n",
    "        df= pd.concat((df,df_temp))\n",
    "    \n",
    "    # Pausing the next iteration for a few seconds\n",
    "    time.sleep(np.random.randint(2,10))\n",
    "    \n",
    "df.shape"
   ]
  },
  {
   "cell_type": "code",
   "execution_count": 561,
   "metadata": {},
   "outputs": [
    {
     "data": {
      "text/html": [
       "<div>\n",
       "<style scoped>\n",
       "    .dataframe tbody tr th:only-of-type {\n",
       "        vertical-align: middle;\n",
       "    }\n",
       "\n",
       "    .dataframe tbody tr th {\n",
       "        vertical-align: top;\n",
       "    }\n",
       "\n",
       "    .dataframe thead th {\n",
       "        text-align: right;\n",
       "    }\n",
       "</style>\n",
       "<table border=\"1\" class=\"dataframe\">\n",
       "  <thead>\n",
       "    <tr style=\"text-align: right;\">\n",
       "      <th></th>\n",
       "      <th>program_name</th>\n",
       "      <th>difficulty</th>\n",
       "      <th>program_type</th>\n",
       "      <th>program_rating</th>\n",
       "      <th>num_raters</th>\n",
       "      <th>enroll</th>\n",
       "      <th>offered_by</th>\n",
       "    </tr>\n",
       "  </thead>\n",
       "  <tbody>\n",
       "    <tr>\n",
       "      <td>85</td>\n",
       "      <td>HTML, CSS, and Javascript for Web Developers</td>\n",
       "      <td>Mixed</td>\n",
       "      <td>COURSE</td>\n",
       "      <td>4.83</td>\n",
       "      <td>5814</td>\n",
       "      <td>223772</td>\n",
       "      <td>Johns Hopkins University</td>\n",
       "    </tr>\n",
       "    <tr>\n",
       "      <td>86</td>\n",
       "      <td>Improving your statistical inferences</td>\n",
       "      <td>Intermediate</td>\n",
       "      <td>COURSE</td>\n",
       "      <td>4.87</td>\n",
       "      <td>522</td>\n",
       "      <td>37326</td>\n",
       "      <td>Eindhoven University of Technology</td>\n",
       "    </tr>\n",
       "    <tr>\n",
       "      <td>87</td>\n",
       "      <td>Jazz Improvisation</td>\n",
       "      <td>Intermediate</td>\n",
       "      <td>COURSE</td>\n",
       "      <td>4.81</td>\n",
       "      <td>636</td>\n",
       "      <td>56784</td>\n",
       "      <td>Berklee College of Music</td>\n",
       "    </tr>\n",
       "    <tr>\n",
       "      <td>88</td>\n",
       "      <td>Blended Language Learning: Design and Practice...</td>\n",
       "      <td>Intermediate</td>\n",
       "      <td>COURSE</td>\n",
       "      <td>4.87</td>\n",
       "      <td>15</td>\n",
       "      <td>1560</td>\n",
       "      <td>University of Colorado Boulder</td>\n",
       "    </tr>\n",
       "    <tr>\n",
       "      <td>89</td>\n",
       "      <td>Disaster Preparedness</td>\n",
       "      <td>Beginner</td>\n",
       "      <td>COURSE</td>\n",
       "      <td>4.66</td>\n",
       "      <td>511</td>\n",
       "      <td>24409</td>\n",
       "      <td>University of Pittsburgh</td>\n",
       "    </tr>\n",
       "  </tbody>\n",
       "</table>\n",
       "</div>"
      ],
      "text/plain": [
       "                                         program_name    difficulty  \\\n",
       "85       HTML, CSS, and Javascript for Web Developers         Mixed   \n",
       "86              Improving your statistical inferences  Intermediate   \n",
       "87                                 Jazz Improvisation  Intermediate   \n",
       "88  Blended Language Learning: Design and Practice...  Intermediate   \n",
       "89                              Disaster Preparedness      Beginner   \n",
       "\n",
       "   program_type  program_rating  num_raters  enroll  \\\n",
       "85       COURSE            4.83        5814  223772   \n",
       "86       COURSE            4.87         522   37326   \n",
       "87       COURSE            4.81         636   56784   \n",
       "88       COURSE            4.87          15    1560   \n",
       "89       COURSE            4.66         511   24409   \n",
       "\n",
       "                            offered_by  \n",
       "85            Johns Hopkins University  \n",
       "86  Eindhoven University of Technology  \n",
       "87            Berklee College of Music  \n",
       "88      University of Colorado Boulder  \n",
       "89            University of Pittsburgh  "
      ]
     },
     "execution_count": 561,
     "metadata": {},
     "output_type": "execute_result"
    }
   ],
   "source": [
    "catalog_temp = df.copy()\n",
    "catalog_temp.tail()"
   ]
  },
  {
   "cell_type": "code",
   "execution_count": 563,
   "metadata": {},
   "outputs": [
    {
     "data": {
      "text/plain": [
       "(8910, 7)"
      ]
     },
     "execution_count": 563,
     "metadata": {},
     "output_type": "execute_result"
    }
   ],
   "source": [
    "# Concating all the pages with the catalog dataframe\n",
    "catalog= pd.concat((catalog_temp, df.copy()))\n",
    "catalog.shape"
   ]
  },
  {
   "cell_type": "markdown",
   "metadata": {},
   "source": [
    "## Data Gathering\n",
    "The collected data has lot of duplicate rows and needs to be checked for tidiness issue."
   ]
  },
  {
   "cell_type": "code",
   "execution_count": 564,
   "metadata": {},
   "outputs": [
    {
     "data": {
      "text/plain": [
       "7900"
      ]
     },
     "execution_count": 564,
     "metadata": {},
     "output_type": "execute_result"
    }
   ],
   "source": [
    "# Exploring the duplicates in the dataset\n",
    "catalog.duplicated().sum()"
   ]
  },
  {
   "cell_type": "code",
   "execution_count": 565,
   "metadata": {},
   "outputs": [],
   "source": [
    "# Dropping the duplicate values\n",
    "catalog.drop_duplicates(inplace= True)\n",
    "\n",
    "catalog.duplicated().sum()"
   ]
  },
  {
   "cell_type": "code",
   "execution_count": 567,
   "metadata": {},
   "outputs": [
    {
     "name": "stdout",
     "output_type": "stream",
     "text": [
      "<class 'pandas.core.frame.DataFrame'>\n",
      "Int64Index: 1010 entries, 0 to 69\n",
      "Data columns (total 7 columns):\n",
      "program_name      1010 non-null object\n",
      "difficulty        1010 non-null object\n",
      "program_type      1010 non-null object\n",
      "program_rating    1010 non-null float64\n",
      "num_raters        1010 non-null int64\n",
      "enroll            1010 non-null int64\n",
      "offered_by        1010 non-null object\n",
      "dtypes: float64(1), int64(2), object(4)\n",
      "memory usage: 63.1+ KB\n"
     ]
    }
   ],
   "source": [
    "catalog.info()"
   ]
  },
  {
   "cell_type": "code",
   "execution_count": 680,
   "metadata": {},
   "outputs": [
    {
     "data": {
      "text/plain": [
       "program_name      0\n",
       "difficulty        0\n",
       "program_type      0\n",
       "program_rating    0\n",
       "num_raters        0\n",
       "enroll            0\n",
       "offered_by        0\n",
       "dtype: int64"
      ]
     },
     "execution_count": 680,
     "metadata": {},
     "output_type": "execute_result"
    }
   ],
   "source": [
    "# Checking for missing values\n",
    "df.isna().sum()"
   ]
  },
  {
   "cell_type": "markdown",
   "metadata": {},
   "source": [
    "## Data Exploration\n",
    "**1) Finding the most popluar courses by enrollment on Coursera**"
   ]
  },
  {
   "cell_type": "code",
   "execution_count": 640,
   "metadata": {},
   "outputs": [
    {
     "data": {
      "image/png": "[encoded data removed]",
      "text/plain": [
       "<Figure size 432x288 with 1 Axes>"
      ]
     },
     "metadata": {
      "needs_background": "light"
     },
     "output_type": "display_data"
    }
   ],
   "source": [
    "# Exploring the most popular courses by enrollment\n",
    "\n",
    "a= catalog.sort_values(by='enroll', ascending= False, ).head(7)\n",
    "sns.barplot(y = [re.split('\\:',x)[0] for x in a.program_name], x= a.enroll,color= 'C0' , ci=0 ) \n",
    "plt.xticks(np.arange(500000,3100000,500000), np.arange(0.5,3.1,0.5))\n",
    "plt.xlabel('Number of Enrollments in million')\n",
    "plt.ylabel('Program Name')\n",
    "plt.title('Most enrollments')\n",
    "plt.show()"
   ]
  },
  {
   "cell_type": "markdown",
   "metadata": {},
   "source": [
    "Machine Learning by Andrew Ng (Stanford) is the most popular course on coursera with more than 3 million enrollments followed by The Science of Wellbeing with approximately 2.2 million enrollments."
   ]
  },
  {
   "cell_type": "markdown",
   "metadata": {},
   "source": [
    "**2) Finding the highest rated course on Coursera** <br>\n",
    "I have changed in the x-axis of the boxplot to highlight the small difference between the top rated courses."
   ]
  },
  {
   "cell_type": "code",
   "execution_count": 681,
   "metadata": {},
   "outputs": [
    {
     "data": {
      "image/png": "[encoded data removed]",
      "text/plain": [
       "<Figure size 432x288 with 1 Axes>"
      ]
     },
     "metadata": {
      "needs_background": "light"
     },
     "output_type": "display_data"
    }
   ],
   "source": [
    "# Exploring the most popular courses by rating\n",
    "b= catalog.sort_values(by='program_rating', ascending= False, ).head(7)\n",
    "sns.barplot(y=b.program_name , x= b.program_rating, color= 'C0', ) #[re.split('\\:',x)[0] for x in b.program_name]\n",
    "plt.xlim(4.8,5,0.02)\n",
    "plt.xticks(np.arange(4.8,5,0.02))\n",
    "plt.xlabel('Program Rating (4.8-5)')\n",
    "plt.ylabel('Program Name')\n",
    "plt.title('Highest rated programs')\n",
    "plt.show()"
   ]
  },
  {
   "cell_type": "markdown",
   "metadata": {},
   "source": [
    "Build a Modern Computer is the highes rated course on Coursera with a rating of 4.94."
   ]
  },
  {
   "cell_type": "markdown",
   "metadata": {},
   "source": [
    "**3) Estimating completion percent** <br>\n",
    "After each course is finished the website asks you to rate the course. Based on the number of people who rated the course I tried to find an estimate of the completion percent (number of ratings/ number of enrollments). This is a rough estimate as some people might not opt for rating the course after completion.  Hence, this is our best estimate for finding the completion percent.\n",
    "\n",
    "For analyzing this data I have filtered the courses that have atleast 10,000 enrollments."
   ]
  },
  {
   "cell_type": "code",
   "execution_count": 644,
   "metadata": {},
   "outputs": [
    {
     "data": {
      "text/html": [
       "<div>\n",
       "<style scoped>\n",
       "    .dataframe tbody tr th:only-of-type {\n",
       "        vertical-align: middle;\n",
       "    }\n",
       "\n",
       "    .dataframe tbody tr th {\n",
       "        vertical-align: top;\n",
       "    }\n",
       "\n",
       "    .dataframe thead th {\n",
       "        text-align: right;\n",
       "    }\n",
       "</style>\n",
       "<table border=\"1\" class=\"dataframe\">\n",
       "  <thead>\n",
       "    <tr style=\"text-align: right;\">\n",
       "      <th></th>\n",
       "      <th>program_name</th>\n",
       "      <th>difficulty</th>\n",
       "      <th>program_type</th>\n",
       "      <th>program_rating</th>\n",
       "      <th>num_raters</th>\n",
       "      <th>enroll</th>\n",
       "      <th>offered_by</th>\n",
       "      <th>completion_percent</th>\n",
       "    </tr>\n",
       "  </thead>\n",
       "  <tbody>\n",
       "    <tr>\n",
       "      <td>0</td>\n",
       "      <td>Introduction to Project Management</td>\n",
       "      <td>Beginner</td>\n",
       "      <td>RHYME PROJECT</td>\n",
       "      <td>4.45</td>\n",
       "      <td>108</td>\n",
       "      <td>1634</td>\n",
       "      <td>Rhyme</td>\n",
       "      <td>6.6</td>\n",
       "    </tr>\n",
       "    <tr>\n",
       "      <td>1</td>\n",
       "      <td>Spreadsheets for Beginners using Google Sheets</td>\n",
       "      <td>Beginner</td>\n",
       "      <td>RHYME PROJECT</td>\n",
       "      <td>4.71</td>\n",
       "      <td>116</td>\n",
       "      <td>1376</td>\n",
       "      <td>Rhyme</td>\n",
       "      <td>8.4</td>\n",
       "    </tr>\n",
       "    <tr>\n",
       "      <td>2</td>\n",
       "      <td>Introduction to Relational Database and SQL</td>\n",
       "      <td>Beginner</td>\n",
       "      <td>RHYME PROJECT</td>\n",
       "      <td>4.52</td>\n",
       "      <td>109</td>\n",
       "      <td>1397</td>\n",
       "      <td>Rhyme</td>\n",
       "      <td>7.8</td>\n",
       "    </tr>\n",
       "    <tr>\n",
       "      <td>3</td>\n",
       "      <td>Anomaly Detection in Time Series Data with Keras</td>\n",
       "      <td>Intermediate</td>\n",
       "      <td>RHYME PROJECT</td>\n",
       "      <td>4.54</td>\n",
       "      <td>13</td>\n",
       "      <td>379</td>\n",
       "      <td>Rhyme</td>\n",
       "      <td>3.4</td>\n",
       "    </tr>\n",
       "    <tr>\n",
       "      <td>4</td>\n",
       "      <td>Use Canva to Create Social Media Marketing Des...</td>\n",
       "      <td>Beginner</td>\n",
       "      <td>RHYME PROJECT</td>\n",
       "      <td>4.52</td>\n",
       "      <td>96</td>\n",
       "      <td>1372</td>\n",
       "      <td>Rhyme</td>\n",
       "      <td>7.0</td>\n",
       "    </tr>\n",
       "  </tbody>\n",
       "</table>\n",
       "</div>"
      ],
      "text/plain": [
       "                                        program_name    difficulty  \\\n",
       "0                 Introduction to Project Management      Beginner   \n",
       "1     Spreadsheets for Beginners using Google Sheets      Beginner   \n",
       "2        Introduction to Relational Database and SQL      Beginner   \n",
       "3   Anomaly Detection in Time Series Data with Keras  Intermediate   \n",
       "4  Use Canva to Create Social Media Marketing Des...      Beginner   \n",
       "\n",
       "    program_type  program_rating  num_raters  enroll offered_by  \\\n",
       "0  RHYME PROJECT            4.45         108    1634      Rhyme   \n",
       "1  RHYME PROJECT            4.71         116    1376      Rhyme   \n",
       "2  RHYME PROJECT            4.52         109    1397      Rhyme   \n",
       "3  RHYME PROJECT            4.54          13     379      Rhyme   \n",
       "4  RHYME PROJECT            4.52          96    1372      Rhyme   \n",
       "\n",
       "   completion_percent  \n",
       "0                 6.6  \n",
       "1                 8.4  \n",
       "2                 7.8  \n",
       "3                 3.4  \n",
       "4                 7.0  "
      ]
     },
     "execution_count": 644,
     "metadata": {},
     "output_type": "execute_result"
    }
   ],
   "source": [
    "# Building a column for completion percent\n",
    "catalog['completion_percent']= round((catalog.num_raters*100)/ catalog.enroll,1)\n",
    "catalog.head()"
   ]
  },
  {
   "cell_type": "code",
   "execution_count": 651,
   "metadata": {},
   "outputs": [
    {
     "data": {
      "image/png": "[encoded data removed]",
      "text/plain": [
       "<Figure size 432x288 with 1 Axes>"
      ]
     },
     "metadata": {
      "needs_background": "light"
     },
     "output_type": "display_data"
    }
   ],
   "source": [
    "# Courses with highest percent completion that were enrolled by atleast 10,000 people\n",
    "c= catalog.query('enroll>10000').sort_values(by='completion_percent', ascending= False, ).head(7)\n",
    "sns.barplot(x= c.completion_percent, y= c.program_name, color= 'C0')\n",
    "plt.xlabel('Percent of students who completed and rated the course')\n",
    "plt.ylabel('Program Name')\n",
    "plt.title('Highest completion percent')\n",
    "plt.show()"
   ]
  },
  {
   "cell_type": "markdown",
   "metadata": {},
   "source": [
    "Structuring Machine Learning Proejcts by deeplearning.ai is the course with one of the highest estimated completion percent ~17.5%."
   ]
  },
  {
   "cell_type": "markdown",
   "metadata": {},
   "source": [
    "**4) Organizations offering the most number of courses**"
   ]
  },
  {
   "cell_type": "code",
   "execution_count": 686,
   "metadata": {},
   "outputs": [
    {
     "data": {
      "image/png": "[encoded data removed]",
      "text/plain": [
       "<Figure size 432x288 with 1 Axes>"
      ]
     },
     "metadata": {
      "needs_background": "light"
     },
     "output_type": "display_data"
    }
   ],
   "source": [
    "# Universities that offer the majority of the courses\n",
    "\n",
    "sns.barplot(y= catalog.offered_by.value_counts().head(7).index, x= catalog.offered_by.value_counts().head(7), color= 'C0' )\n",
    "plt.title('Organization offering most courses')\n",
    "plt.ylabel('Organization')\n",
    "plt.xlabel('Number of courses offered')\n",
    "plt.show()"
   ]
  },
  {
   "cell_type": "code",
   "execution_count": 653,
   "metadata": {},
   "outputs": [
    {
     "data": {
      "text/plain": [
       "COURSE                      657\n",
       "SPECIALIZATION              318\n",
       "RHYME PROJECT                20\n",
       "PROFESSIONAL CERTIFICATE     15\n",
       "Name: program_type, dtype: int64"
      ]
     },
     "execution_count": 653,
     "metadata": {},
     "output_type": "execute_result"
    }
   ],
   "source": [
    "catalog.program_type.value_counts()"
   ]
  },
  {
   "cell_type": "markdown",
   "metadata": {},
   "source": [
    "**5) Most popular specialization programs**\n",
    "Specialization are a series of courses that help to specialize in a particular domain. <br>\n",
    "Python for everybody seems to have the highest number of enrollments (approximately 1.4 million)."
   ]
  },
  {
   "cell_type": "code",
   "execution_count": 662,
   "metadata": {},
   "outputs": [
    {
     "data": {
      "image/png": "[encoded data removed]",
      "text/plain": [
       "<Figure size 432x288 with 1 Axes>"
      ]
     },
     "metadata": {
      "needs_background": "light"
     },
     "output_type": "display_data"
    }
   ],
   "source": [
    "# Most popular specializations\n",
    "\n",
    "a= catalog.query('program_type==\"SPECIALIZATION\"').sort_values(by='enroll', ascending= False).head(7)\n",
    "sns.barplot(y = [re.split('\\:',x)[0] for x in a.program_name], x= a.enroll,color= 'C0' , ci=0 ) \n",
    "plt.xlabel('Number of Enrollments')\n",
    "plt.ylabel('Program Name')\n",
    "plt.title('Most enrollments in Specialization')\n",
    "plt.show()"
   ]
  },
  {
   "cell_type": "markdown",
   "metadata": {},
   "source": [
    "**Correlation between completion percent and program rating**"
   ]
  },
  {
   "cell_type": "code",
   "execution_count": 755,
   "metadata": {},
   "outputs": [
    {
     "data": {
      "image/png": "[encoded data removed]",
      "text/plain": [
       "<Figure size 432x288 with 1 Axes>"
      ]
     },
     "metadata": {
      "needs_background": "light"
     },
     "output_type": "display_data"
    },
    {
     "name": "stdout",
     "output_type": "stream",
     "text": [
      "                    program_rating  num_raters    enroll  completion_percent\n",
      "program_rating            1.000000    0.099278  0.089996            0.085864\n",
      "num_raters                0.099278    1.000000  0.742498            0.409394\n",
      "enroll                    0.089996    0.742498  1.000000            0.071807\n",
      "completion_percent        0.085864    0.409394  0.071807            1.000000\n"
     ]
    }
   ],
   "source": [
    "#Scatterplot for ratings and enrollment relationship\n",
    "sns.regplot( x= catalog.completion_percent, y= catalog.program_rating,  )\n",
    "plt.show()\n",
    "print(catalog.corr())"
   ]
  },
  {
   "cell_type": "markdown",
   "metadata": {},
   "source": [
    "**5) Distribution of the program rating, enrollments and completion percent**"
   ]
  },
  {
   "cell_type": "code",
   "execution_count": 742,
   "metadata": {},
   "outputs": [
    {
     "data": {
      "image/png": "[encoded data removed]",
      "text/plain": [
       "<Figure size 432x288 with 1 Axes>"
      ]
     },
     "metadata": {
      "needs_background": "light"
     },
     "output_type": "display_data"
    }
   ],
   "source": [
    "# Historgram for the program rating\n",
    "plt.hist(catalog.program_rating, alpha= 0.7 )\n",
    "plt.axvline(catalog.program_rating.mean(), color= 'r', label= 'Average')\n",
    "plt.axvline(catalog.program_rating.median(), color= 'g', label= 'Median')\n",
    "plt.xticks(np.arange(3.2,5,0.2))\n",
    "plt.title('Histogram for program rating')\n",
    "plt.legend()\n",
    "plt.show()"
   ]
  },
  {
   "cell_type": "code",
   "execution_count": 734,
   "metadata": {},
   "outputs": [
    {
     "data": {
      "text/plain": [
       "62.57982"
      ]
     },
     "execution_count": 734,
     "metadata": {},
     "output_type": "execute_result"
    }
   ],
   "source": [
    "(catalog.enroll.max()-catalog.enroll.min())/50000"
   ]
  },
  {
   "cell_type": "code",
   "execution_count": 741,
   "metadata": {},
   "outputs": [
    {
     "data": {
      "image/png": "[encoded data removed]",
      "text/plain": [
       "<Figure size 432x288 with 1 Axes>"
      ]
     },
     "metadata": {
      "needs_background": "light"
     },
     "output_type": "display_data"
    }
   ],
   "source": [
    "# Historgram for the number of enrollments\n",
    "\n",
    "plt.hist(catalog.enroll,bins= 63, alpha= 0.7 )\n",
    "plt.axvline(catalog.enroll.mean(), color= 'r', label= 'Average- '+ str(round(catalog.enroll.mean(),0)))\n",
    "plt.axvline(catalog.enroll.median(), color= 'g', label= 'Median- '+ str(catalog.enroll.median()))\n",
    "\n",
    "plt.xlim(0,500000)\n",
    "plt.xticks(np.arange(0,500000,50000), rotation=90)\n",
    "plt.title('Histogram for number of enrollments')\n",
    "plt.legend()\n",
    "plt.show()"
   ]
  },
  {
   "cell_type": "code",
   "execution_count": 740,
   "metadata": {},
   "outputs": [
    {
     "data": {
      "image/png": "[encoded data removed]",
      "text/plain": [
       "<Figure size 432x288 with 1 Axes>"
      ]
     },
     "metadata": {
      "needs_background": "light"
     },
     "output_type": "display_data"
    }
   ],
   "source": [
    "# Historgram for the completion percent\n",
    "plt.hist(catalog.completion_percent, alpha= 0.6)\n",
    "percent_mean = round(catalog.completion_percent.mean(),1)\n",
    "plt.axvline(percent_mean, color= 'r', label= 'Average- '+ str(percent_mean) + '%')\n",
    "percent_median= catalog.completion_percent.median()\n",
    "plt.axvline(percent_median, color= 'g', label= 'Median- '+ str(percent_median)+ '%')\n",
    "plt.xlim(0,25)\n",
    "plt.xticks(np.arange(0,25,2))\n",
    "plt.legend()\n",
    "plt.show()"
   ]
  },
  {
   "cell_type": "code",
   "execution_count": 747,
   "metadata": {},
   "outputs": [
    {
     "name": "stdout",
     "output_type": "stream",
     "text": [
      "Completed by  3126286  Enrolled by  85927878\n"
     ]
    }
   ],
   "source": [
    "print('Completed by ',catalog.num_raters.sum(),' Enrolled by ', catalog.enroll.sum())"
   ]
  },
  {
   "cell_type": "code",
   "execution_count": 748,
   "metadata": {},
   "outputs": [
    {
     "data": {
      "text/html": [
       "<div>\n",
       "<style scoped>\n",
       "    .dataframe tbody tr th:only-of-type {\n",
       "        vertical-align: middle;\n",
       "    }\n",
       "\n",
       "    .dataframe tbody tr th {\n",
       "        vertical-align: top;\n",
       "    }\n",
       "\n",
       "    .dataframe thead th {\n",
       "        text-align: right;\n",
       "    }\n",
       "</style>\n",
       "<table border=\"1\" class=\"dataframe\">\n",
       "  <thead>\n",
       "    <tr style=\"text-align: right;\">\n",
       "      <th></th>\n",
       "      <th>program_name</th>\n",
       "      <th>difficulty</th>\n",
       "      <th>program_type</th>\n",
       "      <th>program_rating</th>\n",
       "      <th>num_raters</th>\n",
       "      <th>enroll</th>\n",
       "      <th>offered_by</th>\n",
       "      <th>completion_percent</th>\n",
       "    </tr>\n",
       "  </thead>\n",
       "  <tbody>\n",
       "    <tr>\n",
       "      <td>0</td>\n",
       "      <td>Introduction to Project Management</td>\n",
       "      <td>Beginner</td>\n",
       "      <td>RHYME PROJECT</td>\n",
       "      <td>4.45</td>\n",
       "      <td>108</td>\n",
       "      <td>1634</td>\n",
       "      <td>Rhyme</td>\n",
       "      <td>6.6</td>\n",
       "    </tr>\n",
       "    <tr>\n",
       "      <td>1</td>\n",
       "      <td>Spreadsheets for Beginners using Google Sheets</td>\n",
       "      <td>Beginner</td>\n",
       "      <td>RHYME PROJECT</td>\n",
       "      <td>4.71</td>\n",
       "      <td>116</td>\n",
       "      <td>1376</td>\n",
       "      <td>Rhyme</td>\n",
       "      <td>8.4</td>\n",
       "    </tr>\n",
       "    <tr>\n",
       "      <td>2</td>\n",
       "      <td>Introduction to Relational Database and SQL</td>\n",
       "      <td>Beginner</td>\n",
       "      <td>RHYME PROJECT</td>\n",
       "      <td>4.52</td>\n",
       "      <td>109</td>\n",
       "      <td>1397</td>\n",
       "      <td>Rhyme</td>\n",
       "      <td>7.8</td>\n",
       "    </tr>\n",
       "    <tr>\n",
       "      <td>3</td>\n",
       "      <td>Anomaly Detection in Time Series Data with Keras</td>\n",
       "      <td>Intermediate</td>\n",
       "      <td>RHYME PROJECT</td>\n",
       "      <td>4.54</td>\n",
       "      <td>13</td>\n",
       "      <td>379</td>\n",
       "      <td>Rhyme</td>\n",
       "      <td>3.4</td>\n",
       "    </tr>\n",
       "    <tr>\n",
       "      <td>4</td>\n",
       "      <td>Use Canva to Create Social Media Marketing Des...</td>\n",
       "      <td>Beginner</td>\n",
       "      <td>RHYME PROJECT</td>\n",
       "      <td>4.52</td>\n",
       "      <td>96</td>\n",
       "      <td>1372</td>\n",
       "      <td>Rhyme</td>\n",
       "      <td>7.0</td>\n",
       "    </tr>\n",
       "  </tbody>\n",
       "</table>\n",
       "</div>"
      ],
      "text/plain": [
       "                                        program_name    difficulty  \\\n",
       "0                 Introduction to Project Management      Beginner   \n",
       "1     Spreadsheets for Beginners using Google Sheets      Beginner   \n",
       "2        Introduction to Relational Database and SQL      Beginner   \n",
       "3   Anomaly Detection in Time Series Data with Keras  Intermediate   \n",
       "4  Use Canva to Create Social Media Marketing Des...      Beginner   \n",
       "\n",
       "    program_type  program_rating  num_raters  enroll offered_by  \\\n",
       "0  RHYME PROJECT            4.45         108    1634      Rhyme   \n",
       "1  RHYME PROJECT            4.71         116    1376      Rhyme   \n",
       "2  RHYME PROJECT            4.52         109    1397      Rhyme   \n",
       "3  RHYME PROJECT            4.54          13     379      Rhyme   \n",
       "4  RHYME PROJECT            4.52          96    1372      Rhyme   \n",
       "\n",
       "   completion_percent  \n",
       "0                 6.6  \n",
       "1                 8.4  \n",
       "2                 7.8  \n",
       "3                 3.4  \n",
       "4                 7.0  "
      ]
     },
     "execution_count": 748,
     "metadata": {},
     "output_type": "execute_result"
    }
   ],
   "source": [
    "catalog.head()"
   ]
  },
  {
   "cell_type": "code",
   "execution_count": null,
   "metadata": {},
   "outputs": [],
   "source": []
  },
  {
   "cell_type": "code",
   "execution_count": null,
   "metadata": {},
   "outputs": [],
   "source": []
  },
  {
   "cell_type": "code",
   "execution_count": null,
   "metadata": {},
   "outputs": [],
   "source": []
  }
 ],
 "metadata": {
  "kernelspec": {
   "display_name": "Python 3",
   "language": "python",
   "name": "python3"
  },
  "language_info": {
   "codemirror_mode": {
    "name": "ipython",
    "version": 3
   },
   "file_extension": ".py",
   "mimetype": "text/x-python",
   "name": "python",
   "nbconvert_exporter": "python",
   "pygments_lexer": "ipython3",
   "version": "3.7.4"
  }
 },
 "nbformat": 4,
 "nbformat_minor": 2
}
